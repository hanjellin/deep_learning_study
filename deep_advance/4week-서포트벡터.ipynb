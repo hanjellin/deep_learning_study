{
 "cells": [
  {
   "cell_type": "code",
   "execution_count": null,
   "metadata": {},
   "outputs": [],
   "source": [
    "import os\n",
    "import sklearn \n",
    "os.environ['TF_CPP_MIN_LOC_LEVEL'] = '3'"
   ]
  },
  {
   "cell_type": "code",
   "execution_count": 8,
   "metadata": {},
   "outputs": [],
   "source": [
    "iris = sklearn.datasets.load_iris()\n",
    "X_train, X_test, y_train, y_test = sklearn.model_selection.train_test_split(iris.data,\n",
    "                                  iris.target,\n",
    "                                  test_size = 0.6,\n",
    "                                  random_state =42)\n",
    "\n"
   ]
  },
  {
   "cell_type": "code",
   "execution_count": 10,
   "metadata": {},
   "outputs": [
    {
     "name": "stdout",
     "output_type": "stream",
     "text": [
      "정확도 : 0.988889\n"
     ]
    }
   ],
   "source": [
    "import sklearn.metrics\n",
    "\n",
    "\n",
    "svm = sklearn.svm.SVC(kernel='linear', C = 1.0, gamma= 0.5)\n",
    "svm.fit(X_train, y_train)\n",
    "predictions = svm.predict(X_test)\n",
    "score = sklearn.metrics.accuracy_score(y_test, predictions)\n",
    "print('정확도 : {0:f}'.format(score))"
   ]
  },
  {
   "cell_type": "code",
   "execution_count": null,
   "metadata": {},
   "outputs": [],
   "source": []
  }
 ],
 "metadata": {
  "kernelspec": {
   "display_name": "Python 3 (ipykernel)",
   "language": "python",
   "name": "python3"
  },
  "language_info": {
   "codemirror_mode": {
    "name": "ipython",
    "version": 3
   },
   "file_extension": ".py",
   "mimetype": "text/x-python",
   "name": "python",
   "nbconvert_exporter": "python",
   "pygments_lexer": "ipython3",
   "version": "3.12.9"
  }
 },
 "nbformat": 4,
 "nbformat_minor": 2
}
