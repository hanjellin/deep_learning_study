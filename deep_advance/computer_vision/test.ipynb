{
 "cells": [
  {
   "cell_type": "code",
   "execution_count": 1,
   "metadata": {},
   "outputs": [],
   "source": [
    "import numpy as np\n",
    "import tensorflow as tf\n",
    "import tensorflow.keras.datasets as ds\n",
    "\n",
    "from tensorflow.keras.models import Sequential\n",
    "from tensorflow.keras.layers import Conv2D,MaxPooling2D,Flatten,Dropout,Dense\n",
    "from tensorflow.keras.optimizers import Adam\n"
   ]
  },
  {
   "cell_type": "code",
   "execution_count": 3,
   "metadata": {},
   "outputs": [
    {
     "name": "stdout",
     "output_type": "stream",
     "text": [
      "Epoch 1/30\n",
      "469/469 - 10s - 21ms/step - accuracy: 0.9099 - loss: 0.3208 - val_accuracy: 0.9673 - val_loss: 0.0986\n",
      "Epoch 2/30\n",
      "469/469 - 8s - 18ms/step - accuracy: 0.9715 - loss: 0.0939 - val_accuracy: 0.9795 - val_loss: 0.0591\n",
      "Epoch 3/30\n",
      "469/469 - 8s - 17ms/step - accuracy: 0.9797 - loss: 0.0635 - val_accuracy: 0.9829 - val_loss: 0.0524\n",
      "Epoch 4/30\n",
      "469/469 - 9s - 18ms/step - accuracy: 0.9841 - loss: 0.0503 - val_accuracy: 0.9867 - val_loss: 0.0385\n",
      "Epoch 5/30\n",
      "469/469 - 8s - 18ms/step - accuracy: 0.9867 - loss: 0.0419 - val_accuracy: 0.9864 - val_loss: 0.0390\n",
      "Epoch 6/30\n",
      "469/469 - 8s - 17ms/step - accuracy: 0.9879 - loss: 0.0376 - val_accuracy: 0.9888 - val_loss: 0.0340\n",
      "Epoch 7/30\n",
      "469/469 - 8s - 18ms/step - accuracy: 0.9900 - loss: 0.0311 - val_accuracy: 0.9878 - val_loss: 0.0355\n",
      "Epoch 8/30\n",
      "469/469 - 8s - 18ms/step - accuracy: 0.9912 - loss: 0.0279 - val_accuracy: 0.9875 - val_loss: 0.0388\n",
      "Epoch 9/30\n",
      "469/469 - 8s - 17ms/step - accuracy: 0.9923 - loss: 0.0241 - val_accuracy: 0.9888 - val_loss: 0.0368\n",
      "Epoch 10/30\n",
      "469/469 - 8s - 18ms/step - accuracy: 0.9923 - loss: 0.0236 - val_accuracy: 0.9897 - val_loss: 0.0327\n",
      "Epoch 11/30\n",
      "469/469 - 9s - 18ms/step - accuracy: 0.9929 - loss: 0.0212 - val_accuracy: 0.9882 - val_loss: 0.0386\n",
      "Epoch 12/30\n",
      "469/469 - 8s - 18ms/step - accuracy: 0.9940 - loss: 0.0188 - val_accuracy: 0.9883 - val_loss: 0.0441\n",
      "Epoch 13/30\n",
      "469/469 - 8s - 18ms/step - accuracy: 0.9941 - loss: 0.0183 - val_accuracy: 0.9880 - val_loss: 0.0446\n",
      "Epoch 14/30\n",
      "469/469 - 8s - 17ms/step - accuracy: 0.9942 - loss: 0.0176 - val_accuracy: 0.9886 - val_loss: 0.0395\n",
      "Epoch 15/30\n",
      "469/469 - 9s - 18ms/step - accuracy: 0.9953 - loss: 0.0147 - val_accuracy: 0.9910 - val_loss: 0.0361\n",
      "Epoch 16/30\n",
      "469/469 - 9s - 18ms/step - accuracy: 0.9954 - loss: 0.0140 - val_accuracy: 0.9878 - val_loss: 0.0494\n",
      "Epoch 17/30\n",
      "469/469 - 8s - 18ms/step - accuracy: 0.9954 - loss: 0.0144 - val_accuracy: 0.9861 - val_loss: 0.0557\n",
      "Epoch 18/30\n",
      "469/469 - 8s - 18ms/step - accuracy: 0.9961 - loss: 0.0118 - val_accuracy: 0.9901 - val_loss: 0.0474\n",
      "Epoch 19/30\n",
      "469/469 - 8s - 18ms/step - accuracy: 0.9959 - loss: 0.0129 - val_accuracy: 0.9888 - val_loss: 0.0512\n",
      "Epoch 20/30\n",
      "469/469 - 9s - 18ms/step - accuracy: 0.9956 - loss: 0.0147 - val_accuracy: 0.9882 - val_loss: 0.0516\n",
      "Epoch 21/30\n",
      "469/469 - 8s - 16ms/step - accuracy: 0.9966 - loss: 0.0096 - val_accuracy: 0.9861 - val_loss: 0.0690\n",
      "Epoch 22/30\n",
      "469/469 - 8s - 17ms/step - accuracy: 0.9959 - loss: 0.0124 - val_accuracy: 0.9884 - val_loss: 0.0559\n",
      "Epoch 23/30\n",
      "469/469 - 8s - 18ms/step - accuracy: 0.9968 - loss: 0.0094 - val_accuracy: 0.9872 - val_loss: 0.0747\n",
      "Epoch 24/30\n",
      "469/469 - 8s - 18ms/step - accuracy: 0.9970 - loss: 0.0090 - val_accuracy: 0.9885 - val_loss: 0.0638\n",
      "Epoch 25/30\n",
      "469/469 - 8s - 18ms/step - accuracy: 0.9966 - loss: 0.0103 - val_accuracy: 0.9902 - val_loss: 0.0503\n",
      "Epoch 26/30\n",
      "469/469 - 8s - 18ms/step - accuracy: 0.9972 - loss: 0.0090 - val_accuracy: 0.9879 - val_loss: 0.0759\n",
      "Epoch 27/30\n",
      "469/469 - 7s - 15ms/step - accuracy: 0.9967 - loss: 0.0112 - val_accuracy: 0.9852 - val_loss: 0.0904\n",
      "Epoch 28/30\n",
      "469/469 - 6s - 14ms/step - accuracy: 0.9971 - loss: 0.0093 - val_accuracy: 0.9902 - val_loss: 0.0724\n",
      "Epoch 29/30\n",
      "469/469 - 6s - 13ms/step - accuracy: 0.9977 - loss: 0.0071 - val_accuracy: 0.9893 - val_loss: 0.0832\n",
      "Epoch 30/30\n",
      "469/469 - 6s - 14ms/step - accuracy: 0.9972 - loss: 0.0102 - val_accuracy: 0.9894 - val_loss: 0.0708\n"
     ]
    },
    {
     "data": {
      "text/plain": [
       "<keras.src.callbacks.history.History at 0x31790fbf0>"
      ]
     },
     "execution_count": 3,
     "metadata": {},
     "output_type": "execute_result"
    }
   ],
   "source": [
    "\n",
    "(x_train,y_train),(x_test,y_test)=ds.mnist.load_data()\n",
    "x_train=x_train.reshape(60000,28,28,1)\n",
    "x_test=x_test.reshape(10000,28,28,1)\n",
    "x_train=x_train.astype(np.float32)/255.0\n",
    "x_test=x_test.astype(np.float32)/255.0\n",
    "y_train=tf.keras.utils.to_categorical(y_train,10)\n",
    "y_test=tf.keras.utils.to_categorical(y_test,10)\n",
    "\n",
    "cnn=Sequential()\n",
    "cnn.add(Conv2D(6,(5,5),padding='same',activation='relu',input_shape=(28,28,1)))\n",
    "cnn.add(MaxPooling2D(pool_size=(2,2),strides=2))\n",
    "cnn.add(Conv2D(16,(5,5),padding='valid',activation='relu'))\n",
    "cnn.add(MaxPooling2D(pool_size=(2,2),strides=2))\n",
    "cnn.add(Conv2D(120,(5,5),padding='valid',activation='relu'))\n",
    "cnn.add(Flatten())\n",
    "cnn.add(Dense(units=84,activation='relu'))\n",
    "cnn.add(Dense(units=10,activation='softmax'))\n",
    "\n",
    "cnn.compile(loss='categorical_crossentropy',optimizer=Adam(learning_rate=0.001),metrics=['accuracy']) \n",
    "cnn.fit(x_train,y_train,batch_size=128,epochs=30,validation_data=(x_test,y_test),verbose=2)\n"
   ]
  },
  {
   "cell_type": "code",
   "execution_count": 4,
   "metadata": {},
   "outputs": [
    {
     "name": "stdout",
     "output_type": "stream",
     "text": [
      "정확률= 98.94000291824341\n"
     ]
    }
   ],
   "source": [
    "                                    \n",
    "res=cnn.evaluate(x_test,y_test,verbose=0) \n",
    "print('정확률=',res[1]*100)"
   ]
  }
 ],
 "metadata": {
  "kernelspec": {
   "display_name": "Python 3 (ipykernel)",
   "language": "python",
   "name": "python3"
  },
  "language_info": {
   "codemirror_mode": {
    "name": "ipython",
    "version": 3
   },
   "file_extension": ".py",
   "mimetype": "text/x-python",
   "name": "python",
   "nbconvert_exporter": "python",
   "pygments_lexer": "ipython3",
   "version": "3.12.9"
  }
 },
 "nbformat": 4,
 "nbformat_minor": 2
}
